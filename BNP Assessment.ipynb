{
 "cells": [
  {
   "cell_type": "code",
   "execution_count": 1,
   "metadata": {
    "collapsed": true
   },
   "outputs": [],
   "source": [
    "#import libraries\n",
    "from random_word import RandomWords\n",
    "from PIL import Image, ImageDraw\n",
    "import pytesseract\n",
    "import cv2"
   ]
  },
  {
   "cell_type": "code",
   "execution_count": 2,
   "metadata": {},
   "outputs": [
    {
     "name": "stdout",
     "output_type": "stream",
     "text": [
      "crackable\n"
     ]
    }
   ],
   "source": [
    "#Reference 1: Create images with Python PIL and Pillow and write text on them \n",
    "#<https://code-maven.com/create-images-with-python-pil-pillow>\n",
    "\n",
    "#Reference 2: random-word 1.0.3\n",
    "#<https://pypi.org/project/random-word/>\n",
    "\n",
    "def random_word_image_generator():\n",
    "    r = RandomWords()\n",
    "\n",
    "    #Create a new gray image\n",
    "    img = Image.new('RGB', (200, 70), color = (200, 200, 200))\n",
    "\n",
    "    #Return a single random word\n",
    "    word = r.get_random_word(hasDictionaryDef=\"true\", minLength=8, maxLength=12)\n",
    "\n",
    "    #Draw the random word on the gray image created\n",
    "    d = ImageDraw.Draw(img)\n",
    "    d.text((20,10), word, fill=(0,0,0))\n",
    "\n",
    "    #Save the image\n",
    "    img.save('word.jpg')\n",
    "    \n",
    "    print(word)\n",
    "    \n",
    "#Run the random word image generator function\n",
    "random_word_image_generator()"
   ]
  },
  {
   "cell_type": "code",
   "execution_count": 3,
   "metadata": {},
   "outputs": [],
   "source": [
    "#Reference 3: Detect text region in image using Opencv \n",
    "#<https://stackoverflow.com/questions/24385714/detect-text-region-in-image-using-opencv>\n",
    "\n",
    "def text_region_detect(file_name):\n",
    "    \n",
    "    #Load original image for processing\n",
    "    img = cv2.imread(file_name)\n",
    "    \n",
    "    #Convert the original image to grayscale\n",
    "    img2gray = cv2.cvtColor(img, cv2.COLOR_BGR2GRAY)\n",
    "    \n",
    "    #Classify the pixel values to create a binary (black and white) image\n",
    "    _, new_img = cv2.threshold(img2gray, 127, 255, cv2.THRESH_BINARY_INV)\n",
    "     \n",
    "    #Dilate image to expand white pixels into one another\n",
    "    kernel = cv2.getStructuringElement(cv2.MORPH_CROSS, (3,3))\n",
    "    dilated = cv2.dilate(new_img, kernel, iterations=5)\n",
    "    \n",
    "    #Create contour from dilated image\n",
    "    _, contours, hierarchy = cv2.findContours(dilated, cv2.RETR_EXTERNAL, cv2.CHAIN_APPROX_NONE)\n",
    "\n",
    "    for contour in contours:\n",
    "        #Get rectangle bounding contour\n",
    "        [x, y, h, w] = cv2.boundingRect(contour)\n",
    "\n",
    "    #Load original image again \n",
    "    img_final = cv2.imread(file_name)\n",
    "        \n",
    "    #Define the coordinates and dimensions of contour on original image\n",
    "    cropped = img_final[y :y +  w , x : x + h]\n",
    "        \n",
    "    #Classify the pixel values to create a binary (black and white) image\n",
    "    _ , cropped = cv2.threshold(cropped, 127, 255, cv2.THRESH_BINARY)\n",
    "        \n",
    "    #Enlarge image to improve accuracy of OCR\n",
    "    (NewHeight, NewWidth) = (h * 4, w * 4)\n",
    "    cropped = cv2.resize(cropped, (NewHeight, NewWidth))\n",
    "        \n",
    "    #Classify the pixel values to create a binary (black and white) image\n",
    "    _ , cropped = cv2.threshold(cropped, 127, 255, cv2.THRESH_BINARY)\n",
    "\n",
    "    #save contour as new image for OCR\n",
    "    cv2.imwrite('cropped.jpg', cropped)\n",
    "   \n",
    "    #Draw rectangle around contour on original image\n",
    "    cv2.rectangle(img, (x, y), (x + h, y + w), (255, 0, 255), 2)\n",
    "    cv2.putText(img,\"This is the cropped area\", (20,40), cv2.FONT_HERSHEY_SIMPLEX, 0.4, (255, 0, 255))\n",
    "    cv2.putText(img,\"Press any key to continue\", (20,60), cv2.FONT_HERSHEY_SIMPLEX, 0.4, (255, 0, 255))\n",
    "        \n",
    "    #Write original image with added contours\n",
    "    cv2.imshow('text_region_detect_result', img)\n",
    "    cv2.waitKey(0)\n",
    "    #Press any key to continue the program\n",
    "\n",
    "#Run the text region detection function\n",
    "file_name = 'word.jpg'\n",
    "\n",
    "text_region_detect(file_name)"
   ]
  },
  {
   "cell_type": "code",
   "execution_count": 4,
   "metadata": {},
   "outputs": [
    {
     "name": "stdout",
     "output_type": "stream",
     "text": [
      "crackable\n"
     ]
    }
   ],
   "source": [
    "#Destroy the imshow window\n",
    "cv2.destroyAllWindows()\n",
    "\n",
    "#Recognize the text using Tesseract OCR with Neural nets LSTM engine and English configurations\n",
    "print(pytesseract.image_to_string(Image.open('cropped.jpg'), \n",
    "                                  config = ('-l eng --oem 1')))\n"
   ]
  },
  {
   "cell_type": "code",
   "execution_count": null,
   "metadata": {
    "collapsed": true
   },
   "outputs": [],
   "source": []
  }
 ],
 "metadata": {
  "kernelspec": {
   "display_name": "Python 3",
   "language": "python",
   "name": "python3"
  },
  "language_info": {
   "codemirror_mode": {
    "name": "ipython",
    "version": 3
   },
   "file_extension": ".py",
   "mimetype": "text/x-python",
   "name": "python",
   "nbconvert_exporter": "python",
   "pygments_lexer": "ipython3",
   "version": "3.6.3"
  }
 },
 "nbformat": 4,
 "nbformat_minor": 2
}
